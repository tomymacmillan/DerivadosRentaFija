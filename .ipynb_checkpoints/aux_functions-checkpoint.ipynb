{
 "cells": [
  {
   "cell_type": "markdown",
   "metadata": {},
   "source": [
    "### ten(tenor).\n",
    "Esta función debe retornar el número de meses implícito en un símbolo de tenor como '6M' o '2Y'.\n",
    "\n",
    "* ten('6M') --> 6\n",
    "\n",
    "* ten('2Y') --> 24\n",
    "\n",
    "* ten('24M') --> 24\n",
    "\n",
    "* ten('24R') --> 0"
   ]
  },
  {
   "cell_type": "code",
   "execution_count": 1,
   "metadata": {
    "collapsed": false
   },
   "outputs": [],
   "source": [
    "def ten(tenor):\n",
    "    \"\"\"\n",
    "    Retorna el numero de meses implicito en un simbolo de tenor\n",
    "    @param tenor (12M, 12m, 2Y, 3y, 2M) con otro tipo de string retorna cero. \n",
    "    Lanzara un error si el argumento no es un string\n",
    "    \"\"\"\n",
    "    symbol = tenor[-1:].lower() # pone en minúsculas la Y o la M\n",
    "    if symbol == \"m\":\n",
    "        result = int(tenor[:-1])\n",
    "    elif symbol == \"y\":\n",
    "        result = 12 * int(tenor[:-1])\n",
    "    else:\n",
    "        result = 0\n",
    "    return result"
   ]
  },
  {
   "cell_type": "code",
   "execution_count": 2,
   "metadata": {
    "collapsed": false
   },
   "outputs": [
    {
     "name": "stdout",
     "output_type": "stream",
     "text": [
      "Help on function ten in module __main__:\n",
      "\n",
      "ten(tenor)\n",
      "    Retorna el numero de meses implicito en un simbolo de tenor\n",
      "    @param tenor (12M, 12m, 2Y, 3y, 2M) con otro tipo de string retorna cero. \n",
      "    Lanzara un error si el argumento no es un string\n",
      "\n"
     ]
    }
   ],
   "source": [
    "help(ten) # Esto funciona en el REPL (como un notebook o la consola) (REPL: read evaluate print loop)"
   ]
  },
  {
   "cell_type": "code",
   "execution_count": 3,
   "metadata": {
    "collapsed": false
   },
   "outputs": [
    {
     "name": "stdout",
     "output_type": "stream",
     "text": [
      "\n",
      "    Retorna el numero de meses implicito en un simbolo de tenor\n",
      "    @param tenor (12M, 12m, 2Y, 3y, 2M) con otro tipo de string retorna cero. \n",
      "    Lanzara un error si el argumento no es un string\n",
      "    \n"
     ]
    }
   ],
   "source": [
    "print(ten.__doc__) # Esto funciona en codigo"
   ]
  },
  {
   "cell_type": "code",
   "execution_count": 7,
   "metadata": {
    "collapsed": false
   },
   "outputs": [
    {
     "name": "stdout",
     "output_type": "stream",
     "text": [
      "1\n",
      "1\n",
      "12\n",
      "12\n",
      "36\n",
      "60\n",
      "0\n",
      "0\n"
     ]
    }
   ],
   "source": [
    "casos = ['1m', '1M', '1y', '12M', '3Y', '5y', 'python', '4']\n",
    "for caso in casos:\n",
    "    print(ten(caso))"
   ]
  },
  {
   "cell_type": "markdown",
   "metadata": {},
   "source": [
    "### buss_day(fecha, sentido)\n",
    "Si *fecha* es un dia de lunes a viernes retorna la misma fecha, si *fecha* es un sabado o un domingo retorna el lunes siguiente si *sentido* == \"FOLLOW\" y retorna el viernes anterior si *sentido* == \"PREVIOUS\". Si *sentido* no es igual a \"FOLLOW\" o \"PREVIOUS\" entonces lo asumira como \"FOLLOW\". Además en la implementación *sentido* tendrá un valor por default igual a \"FOLLOW\"."
   ]
  },
  {
   "cell_type": "code",
   "execution_count": 29,
   "metadata": {
    "collapsed": false
   },
   "outputs": [],
   "source": [
    "from datetime import date\n",
    "from datetime import timedelta\n",
    "\n",
    "def buss_day(fecha, sentido=\"FOLLOW\"):\n",
    "    \"\"\"\n",
    "    Retorna el dia habil siguiente o anterior a una fecha si esta es sabado o domingo.\n",
    "    \n",
    "    @param (datetime.date) fecha\n",
    "    @param (string) sentido\n",
    "    \n",
    "    Si fecha es un dia de lunes a viernes retorna la misma fecha, si fecha es un sabado o un domingo retorna\n",
    "    el lunes siguiente si sentido = \"FOLLOW\" y retorna el viernes anterior si sentido = \"PREVIOUS\".\n",
    "    Si sentido no es igual a \"FOLLOW\" o \"PREVIOUS\" entonces lo asumira como \"FOLLOW\".\n",
    "    El valor por default de sentido es \"FOLLOW\".\n",
    "    \"\"\"\n",
    "    dia_semana = fecha.isoweekday()  # Lunes = 1, ..., domingo = 7\n",
    "    if sentido.lower() == \"follow\":\n",
    "        if dia_semana == 6:          # dia sabado\n",
    "            dias = timedelta(days=2) # vamos a sumar 2 dias\n",
    "        elif dia_semana == 7:\n",
    "            dias = timedelta(days=1) # vamos a sumar un dia\n",
    "        else:\n",
    "            dias = timedelta(days=0) # no sumamos nada\n",
    "    elif sentido.lower() == \"previous\":\n",
    "        if dia_semana == 6:          # dia sabado\n",
    "            dias = timedelta(days=-1) # vamos a restar 1 dias\n",
    "        elif dia_semana == 7:\n",
    "            dias = timedelta(days=-2) # vamos a restar 2 dias\n",
    "        else:\n",
    "            dias = timedelta(days=0) # no restamos nada\n",
    "    else:                            # lo tratamos como si fuera \"follow\"\n",
    "        if dia_semana == 6:          # dia sabado\n",
    "            dias = timedelta(days=2) # vamos a sumar 2 dias\n",
    "        elif dia_semana == 7:\n",
    "            dias = timedelta(days=1) # vamos a sumar un dia\n",
    "        else:\n",
    "            dias = timedelta(days=0) # no sumamos nada\n",
    "    return fecha + dias"
   ]
  },
  {
   "cell_type": "code",
   "execution_count": 30,
   "metadata": {
    "collapsed": false
   },
   "outputs": [
    {
     "name": "stdout",
     "output_type": "stream",
     "text": [
      "7\n",
      "1969-01-13\n",
      "1969-01-10\n",
      "6\n",
      "2000-01-03\n",
      "1999-12-31\n",
      "6\n",
      "2017-07-10\n",
      "2017-07-07\n",
      "7\n",
      "2017-07-10\n",
      "2017-07-07\n",
      "4\n",
      "2017-07-06\n",
      "2017-07-06\n"
     ]
    }
   ],
   "source": [
    "from datetime import date\n",
    "fechas = [date(1969,1,12), date(2000,1,1), date(2017,7,8), date(2017,7,9), date(2017,7,6)]\n",
    "for fecha in fechas:\n",
    "    print(fecha.isoweekday())\n",
    "    print(buss_day(fecha))\n",
    "    print(buss_day(fecha, \"PREVIOUS\"))\n"
   ]
  },
  {
   "cell_type": "markdown",
   "metadata": {},
   "source": [
    "### add_months(fecha, num_meses)\n",
    "La funcion debe sumar num_meses a fecha. El parametro fecha debe ser de tipo date (como en buss_day) y num_meses debe ser un entero relativo.\n",
    "\n",
    "Por ejemplo:\n",
    "\n",
    "* add_months(date(1969,1,12),6) --> date(1969,7,12)\n",
    "\n",
    "* add_months(date(1969,1,12),-3) --> date(1969,3,12)\n",
    "\n",
    "Apoyarse también en el objeto timedelta que usamos en buss_day.\n",
    "\n"
   ]
  }
 ],
 "metadata": {
  "kernelspec": {
   "display_name": "Python 3.6",
   "language": "python",
   "name": "python3.6"
  },
  "language_info": {
   "codemirror_mode": {
    "name": "ipython",
    "version": 3
   },
   "file_extension": ".py",
   "mimetype": "text/x-python",
   "name": "python",
   "nbconvert_exporter": "python",
   "pygments_lexer": "ipython3",
   "version": "3.6.0"
  }
 },
 "nbformat": 4,
 "nbformat_minor": 0
}
