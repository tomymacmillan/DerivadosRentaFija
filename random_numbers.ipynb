{
 "cells": [
  {
   "cell_type": "markdown",
   "metadata": {},
   "source": [
    "# Usamos la librería random"
   ]
  },
  {
   "cell_type": "code",
   "execution_count": 2,
   "metadata": {
    "collapsed": true
   },
   "outputs": [],
   "source": [
    "import random"
   ]
  },
  {
   "cell_type": "markdown",
   "metadata": {},
   "source": [
    "## Elemento aleatorio a partir de un rango"
   ]
  },
  {
   "cell_type": "code",
   "execution_count": 34,
   "metadata": {
    "collapsed": false
   },
   "outputs": [
    {
     "data": {
      "text/plain": [
       "8"
      ]
     },
     "execution_count": 34,
     "metadata": {},
     "output_type": "execute_result"
    }
   ],
   "source": [
    "random.randrange(0, 11, 1) # Rango va entre 0 y 10 inclusive"
   ]
  },
  {
   "cell_type": "markdown",
   "metadata": {},
   "source": [
    "## Elemento aleatorio a partir de una lista"
   ]
  },
  {
   "cell_type": "code",
   "execution_count": 29,
   "metadata": {
    "collapsed": true
   },
   "outputs": [],
   "source": [
    "a = [1,2,3,\"a\",\"b\",\"c\"]"
   ]
  },
  {
   "cell_type": "code",
   "execution_count": 33,
   "metadata": {
    "collapsed": false
   },
   "outputs": [
    {
     "data": {
      "text/plain": [
       "1"
      ]
     },
     "execution_count": 33,
     "metadata": {},
     "output_type": "execute_result"
    }
   ],
   "source": [
    "random.choice(a)"
   ]
  },
  {
   "cell_type": "markdown",
   "metadata": {},
   "source": [
    "## Distribuciones"
   ]
  },
  {
   "cell_type": "markdown",
   "metadata": {},
   "source": [
    "### Uniforme"
   ]
  },
  {
   "cell_type": "code",
   "execution_count": 37,
   "metadata": {
    "collapsed": false
   },
   "outputs": [
    {
     "data": {
      "text/plain": [
       "0.6351314513357283"
      ]
     },
     "execution_count": 37,
     "metadata": {},
     "output_type": "execute_result"
    }
   ],
   "source": [
    "random.uniform(0,1) # genera 0 <= random <= 1"
   ]
  },
  {
   "cell_type": "markdown",
   "metadata": {},
   "source": [
    "### Distribución Normal"
   ]
  },
  {
   "cell_type": "code",
   "execution_count": 78,
   "metadata": {
    "collapsed": false
   },
   "outputs": [
    {
     "data": {
      "text/plain": [
       "-0.20755888737569989"
      ]
     },
     "execution_count": 78,
     "metadata": {},
     "output_type": "execute_result"
    }
   ],
   "source": [
    "random.gauss(0,1) # media = 0 desviación estándar = 1"
   ]
  },
  {
   "cell_type": "markdown",
   "metadata": {},
   "source": [
    "Podemos definir la semilla"
   ]
  },
  {
   "cell_type": "code",
   "execution_count": 46,
   "metadata": {
    "collapsed": false
   },
   "outputs": [
    {
     "data": {
      "text/plain": [
       "0.9241408041681706"
      ]
     },
     "execution_count": 46,
     "metadata": {},
     "output_type": "execute_result"
    }
   ],
   "source": [
    "random.seed(1000000)\n",
    "random.uniform(0,1)"
   ]
  },
  {
   "cell_type": "code",
   "execution_count": 47,
   "metadata": {
    "collapsed": false
   },
   "outputs": [
    {
     "data": {
      "text/plain": [
       "0.7777759741474858"
      ]
     },
     "execution_count": 47,
     "metadata": {},
     "output_type": "execute_result"
    }
   ],
   "source": [
    "random.uniform(0,1)"
   ]
  },
  {
   "cell_type": "markdown",
   "metadata": {},
   "source": [
    "### Simulemos Black & Scholes"
   ]
  },
  {
   "cell_type": "markdown",
   "metadata": {},
   "source": [
    "Parámetros Iniciales"
   ]
  },
  {
   "cell_type": "code",
   "execution_count": 113,
   "metadata": {
    "collapsed": true
   },
   "outputs": [],
   "source": [
    "s = 100\n",
    "r = .03\n",
    "sigma = .12\n",
    "dt = 1/264.0"
   ]
  },
  {
   "cell_type": "markdown",
   "metadata": {},
   "source": [
    "Constantes"
   ]
  },
  {
   "cell_type": "code",
   "execution_count": 88,
   "metadata": {
    "collapsed": false
   },
   "outputs": [],
   "source": [
    "import math\n",
    "drift = r * dt\n",
    "diff = sigma* math.sqrt(dt)"
   ]
  },
  {
   "cell_type": "markdown",
   "metadata": {},
   "source": [
    "Función para simular"
   ]
  },
  {
   "cell_type": "code",
   "execution_count": 91,
   "metadata": {
    "collapsed": false
   },
   "outputs": [],
   "source": [
    "def f(s, drift, diff, w):\n",
    "    return s * (1 + drift + diff * w )"
   ]
  },
  {
   "cell_type": "code",
   "execution_count": 92,
   "metadata": {
    "collapsed": false
   },
   "outputs": [],
   "source": [
    "w = random.gauss(0,1)"
   ]
  },
  {
   "cell_type": "code",
   "execution_count": 94,
   "metadata": {
    "collapsed": false
   },
   "outputs": [
    {
     "data": {
      "text/plain": [
       "100.40269729132419"
      ]
     },
     "execution_count": 94,
     "metadata": {},
     "output_type": "execute_result"
    }
   ],
   "source": [
    "result = f(s,drift,diff,w)\n",
    "result"
   ]
  },
  {
   "cell_type": "markdown",
   "metadata": {},
   "source": [
    "Contenedor para los resultados"
   ]
  },
  {
   "cell_type": "code",
   "execution_count": 59,
   "metadata": {
    "collapsed": false
   },
   "outputs": [],
   "source": [
    "import numpy as np\n",
    "sim = np.zeros(265)"
   ]
  },
  {
   "cell_type": "markdown",
   "metadata": {},
   "source": [
    "Rellenemos la simulación"
   ]
  },
  {
   "cell_type": "code",
   "execution_count": 100,
   "metadata": {
    "collapsed": false
   },
   "outputs": [
    {
     "name": "stdout",
     "output_type": "stream",
     "text": [
      "[ 100.          101.14953197  100.56658387  100.92931624  100.77874234\n",
      "  100.50795963   99.92757025   99.57425409   99.43292959   99.52806901\n",
      "   99.83807576   99.61513826   99.84008387   99.56471855  100.73771001\n",
      "  100.60008499  101.03692323  101.44379619  100.77034524  100.24621515\n",
      "  100.42644972  100.22479937  101.24529906  100.58945149  100.01885826\n",
      "  101.3602457   102.02314085  101.80049     102.10352602  101.93672511\n",
      "  102.49344002  103.21176384  102.25331421  102.73229284  103.14460277\n",
      "  102.17290343  101.95956794  101.14580802  101.29493741  100.06312056\n",
      "  100.14624882   99.51644077   98.87680243   99.70307575   99.65749143\n",
      "  100.08552486   99.78422771   98.94795059   99.36117207   98.41198342\n",
      "   98.13233564   97.99767349   97.34476054   96.30554791   96.84574309\n",
      "   96.62382807   96.35909399   96.38012727   95.72915245   95.67308789\n",
      "   94.4269277    94.68586608   94.57508659   94.94911183   95.44381624\n",
      "   95.8211835    95.88380511   95.48296107   95.63423508   96.59619897\n",
      "   97.04796718   98.28314089   98.95815839   98.20396766   98.63187005\n",
      "   98.56891151   97.77674591   96.30484338   95.42459337   95.13803989\n",
      "   94.08564898   94.58870642   93.9274269    92.6126452    91.92859381\n",
      "   91.94348377   91.09436086   92.0866691    91.89088823   92.14395536\n",
      "   91.4628492    91.95711988   91.34349319   92.10458117   91.42519171\n",
      "   90.27719167   92.01623218   91.80583671   92.16187855   92.77164979\n",
      "   93.08438134   94.27180444   94.38807551   93.40194919   92.75649167\n",
      "   91.90846989   92.08514035   91.79650431   92.20547917   91.53351456\n",
      "   92.50328043   92.78316903   92.65408348   93.60483075   93.5730229\n",
      "   95.44228781   96.71484713   95.49739947   95.11935209   95.32231263\n",
      "   95.19583018   94.93206817   94.31169389   94.79260976   94.79860363\n",
      "   94.24625941   94.39289704   93.46875766   95.29441541   96.10118283\n",
      "   96.53508497   95.42027109   94.89479001   94.66102952   93.63194082\n",
      "   95.23824407   95.59636118   95.54385383   94.62133512   95.82179739\n",
      "   96.48189145   97.39753523   97.53400391   97.00437355   96.88423956\n",
      "   97.21695409   97.57733201   97.36758188   97.47943049   97.47331531\n",
      "   97.30719457   96.89611568   96.76115068   95.79908202   96.09556518\n",
      "   96.93292266   96.79345167   96.62291103   97.0298679    96.36024314\n",
      "   96.79694645   97.17359189   96.95948026   97.69993421   98.41111232\n",
      "   98.22160716   98.71649772   98.21269602   98.25186029   98.30012562\n",
      "   98.45946977   97.41073112   97.45023768   97.48394434   95.53053191\n",
      "   94.4528428    94.82212501   96.06031515   96.67395129   95.64111155\n",
      "   97.11111325   97.85146553   97.39963999   96.64777366   97.19670718\n",
      "   96.6528177    96.79407372   96.301002     95.63602179   96.30128033\n",
      "   97.81154636   98.7381025    99.29910712  100.55917904  100.0361003\n",
      "   99.70078742   99.15521889   99.50566308  100.42680603   99.87338907\n",
      "  100.53626611  100.32080302  100.78099704  100.36672083  100.12089254\n",
      "   99.81136081  100.3068798   101.37399998  101.45239923  101.18073472\n",
      "  101.06299808  101.84235552  102.08071612  102.38046002  102.44550103\n",
      "  102.20606586  102.35302013  103.09299528  103.05497448  102.11465219\n",
      "  101.78284194  102.61466425  102.73596815  102.79700656  101.86763213\n",
      "  102.18409002  102.98985336  103.97375332  103.81206987  104.7022418\n",
      "  105.86316606  105.80261415  105.58446439  106.48094749  106.18200838\n",
      "  107.97613939  109.41834346  108.69579807  108.24452091  108.11079022\n",
      "  107.20443016  107.68514785  107.50358831  107.30899323  108.62603926\n",
      "  108.68242485  109.56174932  108.37803691  108.99459432  108.62813661\n",
      "  108.60244176  108.68548482  109.58691581  110.394346    108.99096204\n",
      "  109.36627945  107.24637899  107.31177694  107.55869622  108.11932067\n",
      "  106.99632976  105.40677397  106.4053152   105.39445303  105.48650409]\n"
     ]
    }
   ],
   "source": [
    "random.seed(1000000)\n",
    "sim[0] = s\n",
    "\n",
    "for i in range(1, 265):\n",
    "    sim[i] = f(sim[i-1], drift, diff, random.gauss(0,1))\n",
    "print(sim)"
   ]
  },
  {
   "cell_type": "code",
   "execution_count": 121,
   "metadata": {
    "collapsed": false
   },
   "outputs": [
    {
     "data": {
      "image/png": "[encoded data removed]",
      "text/plain": [
       "<matplotlib.figure.Figure at 0x7f1036a04cc0>"
      ]
     },
     "metadata": {},
     "output_type": "display_data"
    }
   ],
   "source": [
    "import matplotlib.pyplot as plt\n",
    "\n",
    "t = []\n",
    "for i in range(0, 265):\n",
    "    t.append(i*dt)\n",
    "plt.plot(t,sim)\n",
    "plt.show()"
   ]
  }
 ],
 "metadata": {
  "kernelspec": {
   "display_name": "Python 3.6",
   "language": "python",
   "name": "python3.6"
  },
  "language_info": {
   "codemirror_mode": {
    "name": "ipython",
    "version": 3.0
   },
   "file_extension": ".py",
   "mimetype": "text/x-python",
   "name": "python",
   "nbconvert_exporter": "python",
   "pygments_lexer": "ipython3",
   "version": "3.6.0"
  }
 },
 "nbformat": 4,
 "nbformat_minor": 0
}