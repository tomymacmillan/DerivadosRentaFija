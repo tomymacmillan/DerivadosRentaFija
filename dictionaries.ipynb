{
 "cells": [
  {
   "cell_type": "markdown",
   "metadata": {},
   "source": [
    "# Diccionarios - Key Value Store"
   ]
  },
  {
   "cell_type": "markdown",
   "metadata": {},
   "source": [
    "Un diccionario permite guardar datos identificados por una llave. Algo similar a una tabla en Excel con dos columnas en donde la primera columna es el identificador y la segunda es la data.\n",
    "Por ejemplo, sea el RUT de una persona el identificador y su nombre completo la data."
   ]
  },
  {
   "cell_type": "code",
   "execution_count": 2,
   "metadata": {
    "collapsed": true
   },
   "outputs": [],
   "source": [
    "rut_nombre = {}\n",
    "rut_nombre['1-0'] = 'Juan Antonio Diaz'\n",
    "rut_nombre['2-1'] = 'Jose Patricio Perez'"
   ]
  },
  {
   "cell_type": "markdown",
   "metadata": {},
   "source": [
    "Queremos ahora saber el nombre de '1-0'"
   ]
  },
  {
   "cell_type": "code",
   "execution_count": 3,
   "metadata": {
    "collapsed": false
   },
   "outputs": [
    {
     "data": {
      "text/plain": [
       "'Juan Antonio Diaz'"
      ]
     },
     "execution_count": 3,
     "metadata": {},
     "output_type": "execute_result"
    }
   ],
   "source": [
    "rut_nombre['1-0']"
   ]
  },
  {
   "cell_type": "markdown",
   "metadata": {},
   "source": [
    "La data asociada puede más compleja, por ejemplo, podemos asociar una lista. En el caso anterior agregaremos al nombre el número de teléfono."
   ]
  },
  {
   "cell_type": "code",
   "execution_count": 5,
   "metadata": {
    "collapsed": true
   },
   "outputs": [],
   "source": [
    "rut_nombre['1-0'] = ['Juan Antonio Diaz', 12345678]\n",
    "rut_nombre['2-1'] = ['Jose Patricio Perez', 55554321]"
   ]
  },
  {
   "cell_type": "markdown",
   "metadata": {},
   "source": [
    "Queremos ahora los datos de '1-0'."
   ]
  },
  {
   "cell_type": "code",
   "execution_count": 6,
   "metadata": {
    "collapsed": false
   },
   "outputs": [
    {
     "data": {
      "text/plain": [
       "['Juan Antonio Diaz', 12345678]"
      ]
     },
     "execution_count": 6,
     "metadata": {},
     "output_type": "execute_result"
    }
   ],
   "source": [
    "rut_nombre['1-0']"
   ]
  },
  {
   "cell_type": "markdown",
   "metadata": {},
   "source": [
    "Si luego queremos el número de teléfono podemos usar:"
   ]
  },
  {
   "cell_type": "code",
   "execution_count": 7,
   "metadata": {
    "collapsed": false
   },
   "outputs": [
    {
     "data": {
      "text/plain": [
       "12345678"
      ]
     },
     "execution_count": 7,
     "metadata": {},
     "output_type": "execute_result"
    }
   ],
   "source": [
    "rut_nombre['1-0'][1] # El 1 indica que queremos el segundo elemento de la lista asociada a '1-0'"
   ]
  },
  {
   "cell_type": "markdown",
   "metadata": {},
   "source": [
    "Para no tener que recordar la posición, la data también puede ser un diccionario."
   ]
  },
  {
   "cell_type": "code",
   "execution_count": 9,
   "metadata": {
    "collapsed": true
   },
   "outputs": [],
   "source": [
    "rut_nombre['1-0'] = {'Nombre':'Juan Antonio Diaz', 'Telefono':12345678}\n",
    "rut_nombre['2-1'] = {'Nombre':'Jose Patricio Perez', 'Telefono':55554321}"
   ]
  },
  {
   "cell_type": "markdown",
   "metadata": {},
   "source": [
    "En este caso, para obtener el número de teléfono de '1-0'."
   ]
  },
  {
   "cell_type": "code",
   "execution_count": 10,
   "metadata": {
    "collapsed": false
   },
   "outputs": [
    {
     "data": {
      "text/plain": [
       "'Juan Antonio Diaz'"
      ]
     },
     "execution_count": 10,
     "metadata": {},
     "output_type": "execute_result"
    }
   ],
   "source": [
    "rut_nombre['1-0'] ['Nombre']"
   ]
  },
  {
   "cell_type": "markdown",
   "metadata": {},
   "source": [
    "Y el teléfono,"
   ]
  },
  {
   "cell_type": "code",
   "execution_count": 11,
   "metadata": {
    "collapsed": false
   },
   "outputs": [
    {
     "data": {
      "text/plain": [
       "12345678"
      ]
     },
     "execution_count": 11,
     "metadata": {},
     "output_type": "execute_result"
    }
   ],
   "source": [
    "rut_nombre['1-0'] ['Telefono']"
   ]
  },
  {
   "cell_type": "markdown",
   "metadata": {},
   "source": [
    "Como hemos podido ver, una lista es mutable. También es iterable."
   ]
  },
  {
   "cell_type": "code",
   "execution_count": 13,
   "metadata": {
    "collapsed": false
   },
   "outputs": [
    {
     "name": "stdout",
     "output_type": "stream",
     "text": [
      "1-0\n",
      "{'Nombre': 'Juan Antonio Diaz', 'Telefono': 12345678}\n",
      "2-1\n",
      "{'Nombre': 'Jose Patricio Perez', 'Telefono': 55554321}\n"
     ]
    }
   ],
   "source": [
    "for rut in rut_nombre:\n",
    "    print(rut), print(rut_nombre[rut])"
   ]
  },
  {
   "cell_type": "markdown",
   "metadata": {},
   "source": [
    "Más info (por ejemplo) en http://www.tutorialspoint.com/python/python_dictionary.htm"
   ]
  }
 ],
 "metadata": {
  "kernelspec": {
   "display_name": "Python 3.6",
   "language": "python",
   "name": "python3.6"
  },
  "language_info": {
   "codemirror_mode": {
    "name": "ipython",
    "version": 3
   },
   "file_extension": ".py",
   "mimetype": "text/x-python",
   "name": "python",
   "nbconvert_exporter": "python",
   "pygments_lexer": "ipython3",
   "version": "3.6.0"
  }
 },
 "nbformat": 4,
 "nbformat_minor": 0
}
